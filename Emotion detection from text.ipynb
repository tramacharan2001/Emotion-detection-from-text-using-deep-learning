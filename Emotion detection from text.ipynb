{
 "cells": [
  {
   "cell_type": "code",
   "execution_count": 18,
   "metadata": {},
   "outputs": [],
   "source": [
    "import numpy as np\n",
    "import pandas as pd\n",
    "import matplotlib.pyplot as plt\n"
   ]
  },
  {
   "cell_type": "code",
   "execution_count": 19,
   "metadata": {
    "scrolled": true
   },
   "outputs": [
    {
     "data": {
      "text/html": [
       "<div>\n",
       "<style scoped>\n",
       "    .dataframe tbody tr th:only-of-type {\n",
       "        vertical-align: middle;\n",
       "    }\n",
       "\n",
       "    .dataframe tbody tr th {\n",
       "        vertical-align: top;\n",
       "    }\n",
       "\n",
       "    .dataframe thead th {\n",
       "        text-align: right;\n",
       "    }\n",
       "</style>\n",
       "<table border=\"1\" class=\"dataframe\">\n",
       "  <thead>\n",
       "    <tr style=\"text-align: right;\">\n",
       "      <th></th>\n",
       "      <th>User_ID</th>\n",
       "      <th>Description</th>\n",
       "      <th>Browser_Used</th>\n",
       "      <th>Device_Used</th>\n",
       "      <th>Is_Response</th>\n",
       "    </tr>\n",
       "  </thead>\n",
       "  <tbody>\n",
       "    <tr>\n",
       "      <th>0</th>\n",
       "      <td>id10326</td>\n",
       "      <td>The room was kind of clean but had a VERY stro...</td>\n",
       "      <td>Edge</td>\n",
       "      <td>Mobile</td>\n",
       "      <td>not happy</td>\n",
       "    </tr>\n",
       "    <tr>\n",
       "      <th>1</th>\n",
       "      <td>id10327</td>\n",
       "      <td>I stayed at the Crown Plaza April -- - April -...</td>\n",
       "      <td>Internet Explorer</td>\n",
       "      <td>Mobile</td>\n",
       "      <td>not happy</td>\n",
       "    </tr>\n",
       "    <tr>\n",
       "      <th>2</th>\n",
       "      <td>id10328</td>\n",
       "      <td>I booked this hotel through Hotwire at the low...</td>\n",
       "      <td>Mozilla</td>\n",
       "      <td>Tablet</td>\n",
       "      <td>not happy</td>\n",
       "    </tr>\n",
       "    <tr>\n",
       "      <th>3</th>\n",
       "      <td>id10329</td>\n",
       "      <td>Stayed here with husband and sons on the way t...</td>\n",
       "      <td>InternetExplorer</td>\n",
       "      <td>Desktop</td>\n",
       "      <td>happy</td>\n",
       "    </tr>\n",
       "    <tr>\n",
       "      <th>4</th>\n",
       "      <td>id10330</td>\n",
       "      <td>My girlfriends and I stayed here to celebrate ...</td>\n",
       "      <td>Edge</td>\n",
       "      <td>Tablet</td>\n",
       "      <td>not happy</td>\n",
       "    </tr>\n",
       "  </tbody>\n",
       "</table>\n",
       "</div>"
      ],
      "text/plain": [
       "   User_ID                                        Description  \\\n",
       "0  id10326  The room was kind of clean but had a VERY stro...   \n",
       "1  id10327  I stayed at the Crown Plaza April -- - April -...   \n",
       "2  id10328  I booked this hotel through Hotwire at the low...   \n",
       "3  id10329  Stayed here with husband and sons on the way t...   \n",
       "4  id10330  My girlfriends and I stayed here to celebrate ...   \n",
       "\n",
       "        Browser_Used Device_Used Is_Response  \n",
       "0               Edge      Mobile   not happy  \n",
       "1  Internet Explorer      Mobile   not happy  \n",
       "2            Mozilla      Tablet   not happy  \n",
       "3   InternetExplorer     Desktop       happy  \n",
       "4               Edge      Tablet   not happy  "
      ]
     },
     "execution_count": 19,
     "metadata": {},
     "output_type": "execute_result"
    }
   ],
   "source": [
    "df=pd.read_csv(r'F:\\Experiences1.csv')\n",
    "df.head()"
   ]
  },
  {
   "cell_type": "code",
   "execution_count": 20,
   "metadata": {},
   "outputs": [
    {
     "data": {
      "text/html": [
       "<div>\n",
       "<style scoped>\n",
       "    .dataframe tbody tr th:only-of-type {\n",
       "        vertical-align: middle;\n",
       "    }\n",
       "\n",
       "    .dataframe tbody tr th {\n",
       "        vertical-align: top;\n",
       "    }\n",
       "\n",
       "    .dataframe thead th {\n",
       "        text-align: right;\n",
       "    }\n",
       "</style>\n",
       "<table border=\"1\" class=\"dataframe\">\n",
       "  <thead>\n",
       "    <tr style=\"text-align: right;\">\n",
       "      <th></th>\n",
       "      <th>Description</th>\n",
       "      <th>Is_Response</th>\n",
       "    </tr>\n",
       "  </thead>\n",
       "  <tbody>\n",
       "    <tr>\n",
       "      <th>0</th>\n",
       "      <td>The room was kind of clean but had a VERY stro...</td>\n",
       "      <td>not happy</td>\n",
       "    </tr>\n",
       "    <tr>\n",
       "      <th>1</th>\n",
       "      <td>I stayed at the Crown Plaza April -- - April -...</td>\n",
       "      <td>not happy</td>\n",
       "    </tr>\n",
       "    <tr>\n",
       "      <th>2</th>\n",
       "      <td>I booked this hotel through Hotwire at the low...</td>\n",
       "      <td>not happy</td>\n",
       "    </tr>\n",
       "    <tr>\n",
       "      <th>3</th>\n",
       "      <td>Stayed here with husband and sons on the way t...</td>\n",
       "      <td>happy</td>\n",
       "    </tr>\n",
       "    <tr>\n",
       "      <th>4</th>\n",
       "      <td>My girlfriends and I stayed here to celebrate ...</td>\n",
       "      <td>not happy</td>\n",
       "    </tr>\n",
       "  </tbody>\n",
       "</table>\n",
       "</div>"
      ],
      "text/plain": [
       "                                         Description Is_Response\n",
       "0  The room was kind of clean but had a VERY stro...   not happy\n",
       "1  I stayed at the Crown Plaza April -- - April -...   not happy\n",
       "2  I booked this hotel through Hotwire at the low...   not happy\n",
       "3  Stayed here with husband and sons on the way t...       happy\n",
       "4  My girlfriends and I stayed here to celebrate ...   not happy"
      ]
     },
     "execution_count": 20,
     "metadata": {},
     "output_type": "execute_result"
    }
   ],
   "source": [
    "df.drop(['User_ID','Browser_Used','Device_Used'],axis=1,inplace=True)\n",
    "df.head()"
   ]
  },
  {
   "cell_type": "code",
   "execution_count": 21,
   "metadata": {},
   "outputs": [
    {
     "name": "stdout",
     "output_type": "stream",
     "text": [
      "<class 'pandas.core.frame.DataFrame'>\n",
      "RangeIndex: 999 entries, 0 to 998\n",
      "Data columns (total 2 columns):\n",
      " #   Column       Non-Null Count  Dtype \n",
      "---  ------       --------------  ----- \n",
      " 0   Description  999 non-null    object\n",
      " 1   Is_Response  999 non-null    object\n",
      "dtypes: object(2)\n",
      "memory usage: 15.7+ KB\n"
     ]
    }
   ],
   "source": [
    "df.info()"
   ]
  },
  {
   "cell_type": "code",
   "execution_count": 22,
   "metadata": {},
   "outputs": [
    {
     "data": {
      "text/plain": [
       "Description    0\n",
       "Is_Response    0\n",
       "dtype: int64"
      ]
     },
     "execution_count": 22,
     "metadata": {},
     "output_type": "execute_result"
    }
   ],
   "source": [
    "df.isnull().sum()"
   ]
  },
  {
   "cell_type": "code",
   "execution_count": 23,
   "metadata": {},
   "outputs": [
    {
     "data": {
      "text/html": [
       "<div>\n",
       "<style scoped>\n",
       "    .dataframe tbody tr th:only-of-type {\n",
       "        vertical-align: middle;\n",
       "    }\n",
       "\n",
       "    .dataframe tbody tr th {\n",
       "        vertical-align: top;\n",
       "    }\n",
       "\n",
       "    .dataframe thead th {\n",
       "        text-align: right;\n",
       "    }\n",
       "</style>\n",
       "<table border=\"1\" class=\"dataframe\">\n",
       "  <thead>\n",
       "    <tr style=\"text-align: right;\">\n",
       "      <th></th>\n",
       "      <th>Description</th>\n",
       "      <th>Is_Response</th>\n",
       "      <th>class</th>\n",
       "    </tr>\n",
       "  </thead>\n",
       "  <tbody>\n",
       "    <tr>\n",
       "      <th>0</th>\n",
       "      <td>The room was kind of clean but had a VERY stro...</td>\n",
       "      <td>not happy</td>\n",
       "      <td>1</td>\n",
       "    </tr>\n",
       "    <tr>\n",
       "      <th>1</th>\n",
       "      <td>I stayed at the Crown Plaza April -- - April -...</td>\n",
       "      <td>not happy</td>\n",
       "      <td>1</td>\n",
       "    </tr>\n",
       "    <tr>\n",
       "      <th>2</th>\n",
       "      <td>I booked this hotel through Hotwire at the low...</td>\n",
       "      <td>not happy</td>\n",
       "      <td>1</td>\n",
       "    </tr>\n",
       "    <tr>\n",
       "      <th>3</th>\n",
       "      <td>Stayed here with husband and sons on the way t...</td>\n",
       "      <td>happy</td>\n",
       "      <td>0</td>\n",
       "    </tr>\n",
       "    <tr>\n",
       "      <th>4</th>\n",
       "      <td>My girlfriends and I stayed here to celebrate ...</td>\n",
       "      <td>not happy</td>\n",
       "      <td>1</td>\n",
       "    </tr>\n",
       "  </tbody>\n",
       "</table>\n",
       "</div>"
      ],
      "text/plain": [
       "                                         Description Is_Response  class\n",
       "0  The room was kind of clean but had a VERY stro...   not happy      1\n",
       "1  I stayed at the Crown Plaza April -- - April -...   not happy      1\n",
       "2  I booked this hotel through Hotwire at the low...   not happy      1\n",
       "3  Stayed here with husband and sons on the way t...       happy      0\n",
       "4  My girlfriends and I stayed here to celebrate ...   not happy      1"
      ]
     },
     "execution_count": 23,
     "metadata": {},
     "output_type": "execute_result"
    }
   ],
   "source": [
    "# Creating dictionary\n",
    "dict={'happy':0,'not happy':1}\n",
    "# Mapping dictionary to Is_Response feature\n",
    "df['class']=df['Is_Response'].map(dict)\n",
    "df.head( )"
   ]
  },
  {
   "cell_type": "code",
   "execution_count": 24,
   "metadata": {},
   "outputs": [
    {
     "data": {
      "text/html": [
       "<div>\n",
       "<style scoped>\n",
       "    .dataframe tbody tr th:only-of-type {\n",
       "        vertical-align: middle;\n",
       "    }\n",
       "\n",
       "    .dataframe tbody tr th {\n",
       "        vertical-align: top;\n",
       "    }\n",
       "\n",
       "    .dataframe thead th {\n",
       "        text-align: right;\n",
       "    }\n",
       "</style>\n",
       "<table border=\"1\" class=\"dataframe\">\n",
       "  <thead>\n",
       "    <tr style=\"text-align: right;\">\n",
       "      <th></th>\n",
       "      <th>Description</th>\n",
       "      <th>class</th>\n",
       "    </tr>\n",
       "  </thead>\n",
       "  <tbody>\n",
       "    <tr>\n",
       "      <th>0</th>\n",
       "      <td>The room was kind of clean but had a VERY stro...</td>\n",
       "      <td>1</td>\n",
       "    </tr>\n",
       "    <tr>\n",
       "      <th>1</th>\n",
       "      <td>I stayed at the Crown Plaza April -- - April -...</td>\n",
       "      <td>1</td>\n",
       "    </tr>\n",
       "    <tr>\n",
       "      <th>2</th>\n",
       "      <td>I booked this hotel through Hotwire at the low...</td>\n",
       "      <td>1</td>\n",
       "    </tr>\n",
       "    <tr>\n",
       "      <th>3</th>\n",
       "      <td>Stayed here with husband and sons on the way t...</td>\n",
       "      <td>0</td>\n",
       "    </tr>\n",
       "    <tr>\n",
       "      <th>4</th>\n",
       "      <td>My girlfriends and I stayed here to celebrate ...</td>\n",
       "      <td>1</td>\n",
       "    </tr>\n",
       "  </tbody>\n",
       "</table>\n",
       "</div>"
      ],
      "text/plain": [
       "                                         Description  class\n",
       "0  The room was kind of clean but had a VERY stro...      1\n",
       "1  I stayed at the Crown Plaza April -- - April -...      1\n",
       "2  I booked this hotel through Hotwire at the low...      1\n",
       "3  Stayed here with husband and sons on the way t...      0\n",
       "4  My girlfriends and I stayed here to celebrate ...      1"
      ]
     },
     "execution_count": 24,
     "metadata": {},
     "output_type": "execute_result"
    }
   ],
   "source": [
    "df.drop(['Is_Response'],axis=1,inplace=True)\n",
    "df.head( )"
   ]
  },
  {
   "cell_type": "code",
   "execution_count": 25,
   "metadata": {},
   "outputs": [],
   "source": [
    "# Text Preprocessing\n",
    "from nltk.corpus import stopwords\n",
    "from nltk.stem.porter import PorterStemmer\n",
    "import re\n",
    "ps = PorterStemmer()\n",
    "corpus = []\n",
    "for i in range(0, len(df)):\n",
    "    review = re.sub('[^a-zA-Z]',' ', df['Description'][i])\n",
    "    review = review.lower()\n",
    "    review = review.split()\n",
    "    review = [ps.stem(word) for word in review if not word in stopwords.words('english')]\n",
    "    review = ' '.join(review)\n",
    "    corpus.append(review)"
   ]
  },
  {
   "cell_type": "code",
   "execution_count": 26,
   "metadata": {},
   "outputs": [
    {
     "data": {
      "text/plain": [
       "'stay elan th th octob like much return day trip vega anoth night unassum appear hotel score heavili great locat spotlessli clean classic design comfort bedroom friendli manag staff jorg colleagu front desk revel untir enthusiast help recommend great restaur place visit etc manag particularli help let us complimentari room post check freshen even flight home long day enjoy southern cal sunshin'"
      ]
     },
     "execution_count": 26,
     "metadata": {},
     "output_type": "execute_result"
    }
   ],
   "source": [
    "corpus[15]\n"
   ]
  },
  {
   "cell_type": "code",
   "execution_count": 27,
   "metadata": {},
   "outputs": [
    {
     "data": {
      "text/plain": [
       "0    666\n",
       "1    333\n",
       "Name: class, dtype: int64"
      ]
     },
     "execution_count": 27,
     "metadata": {},
     "output_type": "execute_result"
    }
   ],
   "source": [
    "from sklearn.feature_extraction.text import TfidfVectorizer\n",
    "\n",
    "tfidf=TfidfVectorizer(max_features=10000,ngram_range=(1,3))\n",
    "tfidf_word=tfidf.fit_transform(corpus).toarray()\n",
    "tfidf_class=df[\"class\"]\n",
    "df['class'].value_counts()"
   ]
  },
  {
   "cell_type": "code",
   "execution_count": 28,
   "metadata": {},
   "outputs": [],
   "source": [
    "def remove_special_chars(text):\n",
    "    for remove in map(lambda r: re.compile(re.escape(r)), [',', ':', \"=\", \"&\", \";\", '%', '$','@', '%', '^', '*', '(', ')', '{', '}','[', ']', '|', '/', '\\\\', '>', '<', '-','!', '?', '.',' — ', ' — — ', '#',\" ' \" ,\"\\\"\"]):\n",
    "        text.replace(remove, '', inplace=True)\n",
    "    return text"
   ]
  },
  {
   "cell_type": "code",
   "execution_count": 29,
   "metadata": {},
   "outputs": [],
   "source": [
    "def remove_tags(text):\n",
    "    return re.compile( r' <[^>]+> ').sub(' ', text)"
   ]
  },
  {
   "cell_type": "code",
   "execution_count": 30,
   "metadata": {},
   "outputs": [],
   "source": [
    "def remove_num(text):\n",
    "    return ''.join(re.sub(r'([0–9+])',' ',text))"
   ]
  },
  {
   "cell_type": "code",
   "execution_count": 31,
   "metadata": {},
   "outputs": [
    {
     "data": {
      "text/plain": [
       "0      The room was kind of clean but had a VERY stro...\n",
       "1      I stayed at the Crown Plaza April   April   Th...\n",
       "2      I booked this hotel through Hotwire at the low...\n",
       "3      Stayed here with husband and sons on the way t...\n",
       "4      My girlfriends and I stayed here to celebrate ...\n",
       "                             ...                        \n",
       "994    I stayed at Lowell during a business trip\\nThe...\n",
       "995    This hotel was reasonably priced and in a good...\n",
       "996    I just returned from a three night stay in The...\n",
       "997    Simply it's a great hotel The staff was incred...\n",
       "998    I stay at the Figueroa whenever I am in LA It ...\n",
       "Name: Description, Length: 999, dtype: object"
      ]
     },
     "execution_count": 31,
     "metadata": {},
     "output_type": "execute_result"
    }
   ],
   "source": [
    "final_df=df.copy( )\n",
    "#remove tags\n",
    "final_df.Description=final_df.Description.apply(lambda x : remove_tags(x))\n",
    "#remove numbers\n",
    "final_df.Description=final_df.Description.apply(lambda x : remove_num(x))\n",
    "#remove special charcters\n",
    "remove_special_chars(final_df.Description)"
   ]
  },
  {
   "cell_type": "code",
   "execution_count": 32,
   "metadata": {},
   "outputs": [
    {
     "name": "stdout",
     "output_type": "stream",
     "text": [
      "[   0    0    0    0    0    0    0    0    0    0    0    0    0    0\n",
      "    0    0    0    0    0   26  334    2    6   50    7    3  375   13\n",
      "   19    3  582   79 2060    3   22 1287   12   19  154 1995 3482 4212\n",
      "    4    1  169   63    6    5    3  473    7   27   13    2    6  622\n",
      "    1   12   31    3  456    6   57  402  407    3  105   78   10    3\n",
      "   12   19  372    3  327 1245 2060    3  105  101   32    1  113  111\n",
      "  632   54  103  202   75 1105    7    1 1070  612    6  277    1   12\n",
      "  115   78]\n"
     ]
    }
   ],
   "source": [
    "import tensorflow as tf\n",
    "from keras import preprocessing\n",
    "import keras\n",
    "tokenizer = tf.keras.preprocessing.text.Tokenizer(num_words=5000,filters='!\"#$%&()*+,-./:;<=>?@[\\\\]^_`{|}~\\t\\n',lower=True,split=' ')\n",
    "tokenizer.fit_on_texts(final_df[\"Description\"])\n",
    "X = tokenizer.texts_to_sequences(final_df[\"Description\"])\n",
    "X = keras.preprocessing.sequence.pad_sequences(X,maxlen=100)\n",
    "print(X[500])#changng into 500"
   ]
  },
  {
   "cell_type": "code",
   "execution_count": 33,
   "metadata": {},
   "outputs": [],
   "source": [
    "y= df['class']"
   ]
  },
  {
   "cell_type": "code",
   "execution_count": 34,
   "metadata": {},
   "outputs": [
    {
     "data": {
      "text/plain": [
       "9379"
      ]
     },
     "execution_count": 34,
     "metadata": {},
     "output_type": "execute_result"
    }
   ],
   "source": [
    "vocab_size = len(tokenizer.word_index) + 1\n",
    "vocab_size"
   ]
  },
  {
   "cell_type": "code",
   "execution_count": 35,
   "metadata": {},
   "outputs": [],
   "source": [
    "import pickle\n",
    "# saving\n",
    "with open('tokenizer.pickle', 'wb') as handle:\n",
    "    pickle.dump(tokenizer, handle, protocol=pickle.HIGHEST_PROTOCOL)"
   ]
  },
  {
   "cell_type": "code",
   "execution_count": 36,
   "metadata": {},
   "outputs": [],
   "source": [
    "from sklearn.model_selection import train_test_split\n",
    "X_train, X_test, Y_train, Y_test = train_test_split(X, y, test_size=0.3, random_state = 24)"
   ]
  },
  {
   "cell_type": "code",
   "execution_count": 37,
   "metadata": {},
   "outputs": [],
   "source": [
    "from keras.models import Sequential\n",
    "from keras.layers import Dense\n",
    "from keras.layers import Embedding\n",
    "from keras.layers.recurrent import LSTM\n",
    "\n",
    "embedding_vector_features=40\n",
    "model=Sequential()\n",
    "model.add(Embedding(vocab_size,embedding_vector_features,input_length=100))\n",
    "model.add(LSTM(100))\n",
    "model.add(Dense(1,activation='sigmoid'))"
   ]
  },
  {
   "cell_type": "code",
   "execution_count": 38,
   "metadata": {},
   "outputs": [
    {
     "name": "stdout",
     "output_type": "stream",
     "text": [
      "Model: \"sequential\"\n",
      "_________________________________________________________________\n",
      "Layer (type)                 Output Shape              Param #   \n",
      "=================================================================\n",
      "embedding (Embedding)        (None, 100, 40)           375160    \n",
      "_________________________________________________________________\n",
      "lstm (LSTM)                  (None, 100)               56400     \n",
      "_________________________________________________________________\n",
      "dense (Dense)                (None, 1)                 101       \n",
      "=================================================================\n",
      "Total params: 431,661\n",
      "Trainable params: 431,661\n",
      "Non-trainable params: 0\n",
      "_________________________________________________________________\n",
      "None\n"
     ]
    }
   ],
   "source": [
    "model.compile(loss='binary_crossentropy',optimizer='adam',metrics=['accuracy'])\n",
    "print(model.summary())"
   ]
  },
  {
   "cell_type": "code",
   "execution_count": 39,
   "metadata": {},
   "outputs": [
    {
     "name": "stdout",
     "output_type": "stream",
     "text": [
      "Epoch 1/20\n",
      "22/22 [==============================] - 4s 170ms/step - loss: 0.6582 - accuracy: 0.6567 - val_loss: 0.6429 - val_accuracy: 0.6500\n",
      "Epoch 2/20\n",
      "22/22 [==============================] - 3s 115ms/step - loss: 0.6058 - accuracy: 0.6738 - val_loss: 0.6138 - val_accuracy: 0.6500\n",
      "Epoch 3/20\n",
      "22/22 [==============================] - 3s 123ms/step - loss: 0.5059 - accuracy: 0.7167 - val_loss: 0.5303 - val_accuracy: 0.7600\n",
      "Epoch 4/20\n",
      "22/22 [==============================] - 2s 112ms/step - loss: 0.4166 - accuracy: 0.8999 - val_loss: 0.5747 - val_accuracy: 0.6833\n",
      "Epoch 5/20\n",
      "22/22 [==============================] - 2s 109ms/step - loss: 0.2454 - accuracy: 0.9142 - val_loss: 0.4755 - val_accuracy: 0.7700\n",
      "Epoch 6/20\n",
      "22/22 [==============================] - 2s 110ms/step - loss: 0.1273 - accuracy: 0.9671 - val_loss: 0.5119 - val_accuracy: 0.7733\n",
      "Epoch 7/20\n",
      "22/22 [==============================] - 2s 109ms/step - loss: 0.0701 - accuracy: 0.9843 - val_loss: 0.5830 - val_accuracy: 0.7433\n",
      "Epoch 8/20\n",
      "22/22 [==============================] - 2s 107ms/step - loss: 0.0684 - accuracy: 0.9843 - val_loss: 0.6599 - val_accuracy: 0.7633\n",
      "Epoch 9/20\n",
      "22/22 [==============================] - 2s 110ms/step - loss: 0.0536 - accuracy: 0.9957 - val_loss: 0.6591 - val_accuracy: 0.7567\n",
      "Epoch 10/20\n",
      "22/22 [==============================] - 3s 115ms/step - loss: 0.0266 - accuracy: 0.9943 - val_loss: 0.8089 - val_accuracy: 0.7333\n",
      "Epoch 11/20\n",
      "22/22 [==============================] - 3s 120ms/step - loss: 0.0097 - accuracy: 1.0000 - val_loss: 0.8443 - val_accuracy: 0.7567\n",
      "Epoch 12/20\n",
      "22/22 [==============================] - 3s 139ms/step - loss: 0.0050 - accuracy: 1.0000 - val_loss: 0.9341 - val_accuracy: 0.7700\n",
      "Epoch 13/20\n",
      "22/22 [==============================] - 5s 218ms/step - loss: 0.0024 - accuracy: 1.0000 - val_loss: 0.9944 - val_accuracy: 0.7667\n",
      "Epoch 14/20\n",
      "22/22 [==============================] - 3s 123ms/step - loss: 0.0017 - accuracy: 1.0000 - val_loss: 1.0317 - val_accuracy: 0.7633\n",
      "Epoch 15/20\n",
      "22/22 [==============================] - 3s 122ms/step - loss: 0.0014 - accuracy: 1.0000 - val_loss: 1.0836 - val_accuracy: 0.7700\n",
      "Epoch 16/20\n",
      "22/22 [==============================] - 3s 123ms/step - loss: 0.0014 - accuracy: 1.0000 - val_loss: 1.1367 - val_accuracy: 0.7667\n",
      "Epoch 17/20\n",
      "22/22 [==============================] - 3s 149ms/step - loss: 0.0012 - accuracy: 1.0000 - val_loss: 1.1317 - val_accuracy: 0.7533\n",
      "Epoch 18/20\n",
      "22/22 [==============================] - 3s 135ms/step - loss: 9.5102e-04 - accuracy: 1.0000 - val_loss: 1.2006 - val_accuracy: 0.7700\n",
      "Epoch 19/20\n",
      "22/22 [==============================] - 3s 117ms/step - loss: 7.7364e-04 - accuracy: 1.0000 - val_loss: 1.1139 - val_accuracy: 0.7567\n",
      "Epoch 20/20\n",
      "22/22 [==============================] - 3s 119ms/step - loss: 6.7187e-04 - accuracy: 1.0000 - val_loss: 1.1891 - val_accuracy: 0.7767\n"
     ]
    }
   ],
   "source": [
    "history=model.fit(X_train, Y_train, batch_size=32, epochs=20, validation_data=(X_test, Y_test), )"
   ]
  },
  {
   "cell_type": "code",
   "execution_count": 40,
   "metadata": {},
   "outputs": [
    {
     "data": {
      "image/png": "[encoded data removed]",
      "text/plain": [
       "<Figure size 432x288 with 1 Axes>"
      ]
     },
     "metadata": {
      "needs_background": "light"
     },
     "output_type": "display_data"
    }
   ],
   "source": [
    "plt.plot(history.history['loss'])\n",
    "plt.plot(history.history['val_loss'])\n",
    "plt.title('model loss')\n",
    "plt.ylabel('loss')\n",
    "plt.xlabel('epoch')\n",
    "plt.legend(['train', 'test'], loc='upper left')\n",
    "plt.show()"
   ]
  },
  {
   "cell_type": "code",
   "execution_count": 41,
   "metadata": {},
   "outputs": [
    {
     "data": {
      "image/png": "[encoded data removed]",
      "text/plain": [
       "<Figure size 432x288 with 1 Axes>"
      ]
     },
     "metadata": {
      "needs_background": "light"
     },
     "output_type": "display_data"
    }
   ],
   "source": [
    "plt.plot(history.history['accuracy'])\n",
    "plt.plot(history.history['val_accuracy'])\n",
    "plt.title('model accuracy')\n",
    "plt.ylabel('accuracy')\n",
    "plt.xlabel('epoch')\n",
    "plt.legend(['train', 'test'], loc='upper left')\n",
    "plt.show()"
   ]
  },
  {
   "cell_type": "code",
   "execution_count": 43,
   "metadata": {},
   "outputs": [
    {
     "name": "stdout",
     "output_type": "stream",
     "text": [
      "Not Happy\n"
     ]
    }
   ],
   "source": [
    "# New review\n",
    "string11=''' i had handicapped family and they put us in the very end of the hallway. we stayed on -nd floor the ice machine didnt work. the hallways were extremely dark and the hotel smelled like dog urine and wet dog. our room was pretty dark even with curtains open. the carpets and bedspreads had cigarette burns all over. the refrigerator made a terrible sound at night. i found small roaches in the bathroom. and asked for deoderizer to be sprayed in the room while we were gone. that didnt happen. i needed to use the business center and had to argue to get the key for it on - occasions. the dayshift had given me a receipt with password for it and the night shift says we know nothing about it. they finally gave in & gave me the key. housekeeping couldnt speak english so i had to ask the front desk for our room to smell better. the cont breakfast were dried out donuts. needless to say we went to the double t for all but one breakfast. no mgmt ever helped me out with our problems or would give in on some reimbursement. i did write a letter after we returned and got a letter back thanking me for my comments and now they knew some things needed improved on. i wont stay there again. planning another trip in oct and will be staying at the comfort inn next door'''\n",
    "# Evaluating trained mode with new review\n",
    "x_1=tokenizer.texts_to_sequences([string11])\n",
    "x_1 = keras.preprocessing.sequence.pad_sequences(x_1,maxlen=100)\n",
    "if(model.predict(x_1)<=0.5):\n",
    "    print(\"Happy\")\n",
    "else:\n",
    "    print(\"Not Happy\")"
   ]
  },
  {
   "cell_type": "code",
   "execution_count": 55,
   "metadata": {},
   "outputs": [
    {
     "name": "stdout",
     "output_type": "stream",
     "text": [
      "Happy\n"
     ]
    }
   ],
   "source": [
    "# New review\n",
    "string22='''  We had a lovely suite with a great location to all the tourist areas. We had already checked out the day the blackout occurred and were scheduled to take a night train home. Unfortunately the trains are electric and couldn't get into New York! The staff at the Wyndham were great. They checked us back in and gave us a room with a view, helped us find out about Amtrak, etc. As it turned out the next AM there were still no trains South (and by now a lot of people had been flying into Logan because NYC was closed) but we did find out trains were running out of Manhattan South (we needed to get the Wilmington, Delaware). It was like the Amazing Race! Everyone trying to get out of town. We ended up taking a Greyhound to NYC and were able to get a train home. It cost us about an additional $---- but it could have been worse. Only down side was the staff didn't know much about the package deal I booked which was supposed to include nightly popcorn and sodas for the kids. ALso I was charged $--.-- for a - min phone call home (I stupidly left my calling card at home). I would recommend this Hotel to anyone!'''\n",
    "# Evaluating trained mode with new review\n",
    "x_2=tokenizer.texts_to_sequences([string22])\n",
    "x_2= keras.preprocessing.sequence.pad_sequences(x_2,maxlen=100)\n",
    "if(model.predict(x_2)<=0.5):\n",
    "    print(\"Happy\")\n",
    "else:\n",
    "    print(\"Not Happy\")"
   ]
  },
  {
   "cell_type": "code",
   "execution_count": null,
   "metadata": {},
   "outputs": [],
   "source": []
  }
 ],
 "metadata": {
  "kernelspec": {
   "display_name": "Python 3",
   "language": "python",
   "name": "python3"
  },
  "language_info": {
   "codemirror_mode": {
    "name": "ipython",
    "version": 3
   },
   "file_extension": ".py",
   "mimetype": "text/x-python",
   "name": "python",
   "nbconvert_exporter": "python",
   "pygments_lexer": "ipython3",
   "version": "3.8.5"
  }
 },
 "nbformat": 4,
 "nbformat_minor": 4
}
